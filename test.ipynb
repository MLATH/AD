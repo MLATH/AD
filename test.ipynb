{
 "cells": [
  {
   "cell_type": "code",
   "execution_count": 1,
   "metadata": {},
   "outputs": [],
   "source": [
    "import sys\n",
    "#sys.path.insert(0,'..')\n",
    "import pandas as pd\n",
    "import torch\n",
    "import torch.nn as nn\n",
    "from model import MLP, VGG11, resnet18\n",
    "from data import get_ds\n",
    "from activation import MyReLU\n",
    "from utils import unif_weight_copy, touch0, diff_grad_chk\n",
    "from tqdm import tqdm"
   ]
  },
  {
   "cell_type": "code",
   "execution_count": 2,
   "metadata": {},
   "outputs": [
    {
     "name": "stderr",
     "output_type": "stream",
     "text": [
      "mlp_prc_8: 100%|██████████| 100/100 [03:33<00:00,  2.14s/it]\n",
      "mlp_prc_16: 100%|██████████| 100/100 [03:48<00:00,  2.28s/it]\n",
      "mlp_prc_32: 100%|██████████| 100/100 [04:01<00:00,  2.41s/it]\n"
     ]
    },
    {
     "name": "stdout",
     "output_type": "stream",
     "text": [
      "Files already downloaded and verified\n",
      "Files already downloaded and verified\n"
     ]
    },
    {
     "name": "stderr",
     "output_type": "stream",
     "text": [
      "vgg_prc_8: 100%|██████████| 100/100 [2:47:27<00:00, 100.47s/it] \n",
      "vgg_prc_16: 100%|██████████| 100/100 [2:49:17<00:00, 101.57s/it] \n",
      "vgg_prc_32: 100%|██████████| 100/100 [2:50:09<00:00, 102.09s/it] \n"
     ]
    },
    {
     "name": "stdout",
     "output_type": "stream",
     "text": [
      "Files already downloaded and verified\n",
      "Files already downloaded and verified\n"
     ]
    },
    {
     "name": "stderr",
     "output_type": "stream",
     "text": [
      "res_prc_8: 100%|██████████| 100/100 [4:14:01<00:00, 152.42s/it] \n",
      "res_prc_16: 100%|██████████| 100/100 [4:14:29<00:00, 152.69s/it] \n",
      "res_prc_32:   5%|▌         | 5/100 [11:20<3:35:33, 136.15s/it]\n"
     ]
    },
    {
     "ename": "KeyboardInterrupt",
     "evalue": "",
     "output_type": "error",
     "traceback": [
      "\u001b[0;31m---------------------------------------------------------------------------\u001b[0m",
      "\u001b[0;31mKeyboardInterrupt\u001b[0m                         Traceback (most recent call last)",
      "\u001b[0;32m<ipython-input-2-8d4f4fe586c9>\u001b[0m in \u001b[0;36m<module>\u001b[0;34m\u001b[0m\n\u001b[1;32m     46\u001b[0m \u001b[0;34m\u001b[0m\u001b[0m\n\u001b[1;32m     47\u001b[0m                 \u001b[0my0\u001b[0m \u001b[0;34m=\u001b[0m \u001b[0mNN0\u001b[0m\u001b[0;34m(\u001b[0m\u001b[0mx\u001b[0m\u001b[0;34m)\u001b[0m\u001b[0;34m.\u001b[0m\u001b[0msum\u001b[0m\u001b[0;34m(\u001b[0m\u001b[0;34m)\u001b[0m\u001b[0;34m;\u001b[0m \u001b[0my1\u001b[0m \u001b[0;34m=\u001b[0m \u001b[0mNN1\u001b[0m\u001b[0;34m(\u001b[0m\u001b[0mx\u001b[0m\u001b[0;34m)\u001b[0m\u001b[0;34m.\u001b[0m\u001b[0msum\u001b[0m\u001b[0;34m(\u001b[0m\u001b[0;34m)\u001b[0m\u001b[0;34m\u001b[0m\u001b[0;34m\u001b[0m\u001b[0m\n\u001b[0;32m---> 48\u001b[0;31m                 \u001b[0my0\u001b[0m\u001b[0;34m.\u001b[0m\u001b[0mbackward\u001b[0m\u001b[0;34m(\u001b[0m\u001b[0;34m)\u001b[0m\u001b[0;34m;\u001b[0m \u001b[0my1\u001b[0m\u001b[0;34m.\u001b[0m\u001b[0mbackward\u001b[0m\u001b[0;34m(\u001b[0m\u001b[0;34m)\u001b[0m\u001b[0;34m\u001b[0m\u001b[0;34m\u001b[0m\u001b[0m\n\u001b[0m\u001b[1;32m     49\u001b[0m \u001b[0;34m\u001b[0m\u001b[0m\n\u001b[1;32m     50\u001b[0m                 \u001b[0mt0_cnt\u001b[0m \u001b[0;34m+=\u001b[0m \u001b[0mtouch0\u001b[0m\u001b[0;34m(\u001b[0m\u001b[0mNN0\u001b[0m\u001b[0;34m,\u001b[0m\u001b[0mact_fn\u001b[0m\u001b[0;34m)\u001b[0m\u001b[0;34m\u001b[0m\u001b[0;34m\u001b[0m\u001b[0m\n",
      "\u001b[0;32m~/.local/lib/python3.8/site-packages/torch/_tensor.py\u001b[0m in \u001b[0;36mbackward\u001b[0;34m(self, gradient, retain_graph, create_graph, inputs)\u001b[0m\n\u001b[1;32m    486\u001b[0m                 \u001b[0minputs\u001b[0m\u001b[0;34m=\u001b[0m\u001b[0minputs\u001b[0m\u001b[0;34m,\u001b[0m\u001b[0;34m\u001b[0m\u001b[0;34m\u001b[0m\u001b[0m\n\u001b[1;32m    487\u001b[0m             )\n\u001b[0;32m--> 488\u001b[0;31m         torch.autograd.backward(\n\u001b[0m\u001b[1;32m    489\u001b[0m             \u001b[0mself\u001b[0m\u001b[0;34m,\u001b[0m \u001b[0mgradient\u001b[0m\u001b[0;34m,\u001b[0m \u001b[0mretain_graph\u001b[0m\u001b[0;34m,\u001b[0m \u001b[0mcreate_graph\u001b[0m\u001b[0;34m,\u001b[0m \u001b[0minputs\u001b[0m\u001b[0;34m=\u001b[0m\u001b[0minputs\u001b[0m\u001b[0;34m\u001b[0m\u001b[0;34m\u001b[0m\u001b[0m\n\u001b[1;32m    490\u001b[0m         )\n",
      "\u001b[0;32m~/.local/lib/python3.8/site-packages/torch/autograd/__init__.py\u001b[0m in \u001b[0;36mbackward\u001b[0;34m(tensors, grad_tensors, retain_graph, create_graph, grad_variables, inputs)\u001b[0m\n\u001b[1;32m    195\u001b[0m     \u001b[0;31m# some Python versions print out the first line of a multi-line function\u001b[0m\u001b[0;34m\u001b[0m\u001b[0;34m\u001b[0m\u001b[0;34m\u001b[0m\u001b[0m\n\u001b[1;32m    196\u001b[0m     \u001b[0;31m# calls in the traceback and some print out the last line\u001b[0m\u001b[0;34m\u001b[0m\u001b[0;34m\u001b[0m\u001b[0;34m\u001b[0m\u001b[0m\n\u001b[0;32m--> 197\u001b[0;31m     Variable._execution_engine.run_backward(  # Calls into the C++ engine to run the backward pass\n\u001b[0m\u001b[1;32m    198\u001b[0m         \u001b[0mtensors\u001b[0m\u001b[0;34m,\u001b[0m \u001b[0mgrad_tensors_\u001b[0m\u001b[0;34m,\u001b[0m \u001b[0mretain_graph\u001b[0m\u001b[0;34m,\u001b[0m \u001b[0mcreate_graph\u001b[0m\u001b[0;34m,\u001b[0m \u001b[0minputs\u001b[0m\u001b[0;34m,\u001b[0m\u001b[0;34m\u001b[0m\u001b[0;34m\u001b[0m\u001b[0m\n\u001b[1;32m    199\u001b[0m         allow_unreachable=True, accumulate_grad=True)  # Calls into the C++ engine to run the backward pass\n",
      "\u001b[0;31mKeyboardInterrupt\u001b[0m: "
     ]
    }
   ],
   "source": [
    "torch.backends.cudnn.deterministic = True\n",
    "\n",
    "device = 'cuda:5'\n",
    "torch.cuda.set_device(5)\n",
    "\n",
    "act_fn = MyReLU\n",
    "models = ['mlp','vgg','res']\n",
    "weight_sampling = 100\n",
    "\n",
    "df = pd.DataFrame(columns=['model','data_idx','precision','touch0','diff_grad'])\n",
    "\n",
    "for m in models:\n",
    "    \n",
    "    if m == 'mlp':\n",
    "        data = 'mnist'\n",
    "        NN0 = MLP(512,0,True).to(device); NN1 = MLP(512,1,True).to(device)\n",
    "\n",
    "    else:\n",
    "        data = 'cifar10'\n",
    "        if m == 'vgg':\n",
    "            NN0 = VGG11(0,True).to(device); NN1 = VGG11(1,True).to(device)\n",
    "        else:\n",
    "            NN0 = resnet18(bias=True,norm_layer=nn.Identity,relu_fn = lambda : MyReLU(0)).to(device)\n",
    "            NN1 = resnet18(bias=True,norm_layer=nn.Identity,relu_fn = lambda : MyReLU(1)).to(device)\n",
    "    \n",
    "    train, _ = get_ds(data)\n",
    "\n",
    "    for precision in [8,16,32]:\n",
    "        t0_cnt = 0; df_cnt = 0\n",
    "\n",
    "        for run_id in tqdm(range(weight_sampling),desc=m+\"_prc_%d\"%precision):\n",
    "            \n",
    "            NN0, NN1 = unif_weight_copy(NN0, NN1, precision, device)\n",
    "\n",
    "            for i,(x,_) in enumerate(train):\n",
    "                \n",
    "                if i == 200 : break\n",
    "\n",
    "                x = x.double().to(device) \n",
    "\n",
    "                NN0.zero_grad(); NN1.zero_grad()\n",
    "                \n",
    "                y0 = NN0(x).sum(); y1 = NN1(x).sum()\n",
    "                y0.backward(); y1.backward()\n",
    "                \n",
    "                t0_cnt = touch0(NN0,act_fn)\n",
    "\n",
    "                if touch0(NN0,act_fn) != touch0(NN1,act_fn):\n",
    "                    raise Exception(\"different weight\")\n",
    "\n",
    "                df_cnt = diff_grad_chk(NN0,NN1)\n",
    "\n",
    "                if t0_cnt < df_cnt: \n",
    "                    raise Exception(\"different gradient\")\n",
    "                \n",
    "                result_dict = {\"model\":m, \"data_idx\": i, \"precision\":precision, \"touch0\":t0_cnt, \"diff_grad\": df_cnt}\n",
    "                df0 = pd.DataFrame(result_dict,index=[run_id])\n",
    "                df = pd.concat([df,df0])\n",
    "\n",
    "##############################\n",
    "        df.to_csv('result0.csv')\n",
    "##############################"
   ]
  }
 ],
 "metadata": {
  "kernelspec": {
   "display_name": "Python 3",
   "language": "python",
   "name": "python3"
  },
  "language_info": {
   "codemirror_mode": {
    "name": "ipython",
    "version": 3
   },
   "file_extension": ".py",
   "mimetype": "text/x-python",
   "name": "python",
   "nbconvert_exporter": "python",
   "pygments_lexer": "ipython3",
   "version": "3.8.10"
  },
  "orig_nbformat": 4
 },
 "nbformat": 4,
 "nbformat_minor": 2
}
